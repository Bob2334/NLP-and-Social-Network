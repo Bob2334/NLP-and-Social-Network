{
  "nbformat": 4,
  "nbformat_minor": 0,
  "metadata": {
    "colab": {
      "name": "Florance.ipynb",
      "provenance": [],
      "collapsed_sections": [],
      "toc_visible": true,
      "machine_shape": "hm"
    },
    "kernelspec": {
      "name": "python3",
      "display_name": "Python 3"
    },
    "accelerator": "GPU"
  },
  "cells": [
    {
      "cell_type": "code",
      "metadata": {
        "id": "T1hzfCkPEAlg",
        "outputId": "7d097b7b-ec48-4177-a304-4e9be1be7a56",
        "colab": {
          "base_uri": "https://localhost:8080/",
          "height": 102
        }
      },
      "source": [
        "!git clone https://github.com/bshao001/ChatLearner.git"
      ],
      "execution_count": null,
      "outputs": [
        {
          "output_type": "stream",
          "text": [
            "Cloning into 'ChatLearner'...\n",
            "remote: Enumerating objects: 1269, done.\u001b[K\n",
            "remote: Total 1269 (delta 0), reused 0 (delta 0), pack-reused 1269\u001b[K\n",
            "Receiving objects: 100% (1269/1269), 36.00 MiB | 18.70 MiB/s, done.\n",
            "Resolving deltas: 100% (640/640), done.\n"
          ],
          "name": "stdout"
        }
      ]
    },
    {
      "cell_type": "code",
      "metadata": {
        "id": "7wvZyMbg9jCV",
        "outputId": "fe6e5167-0725-4142-cc8e-8889f21c08e9",
        "colab": {
          "base_uri": "https://localhost:8080/",
          "height": 34
        }
      },
      "source": [
        "cd /content/drive/My Drive/"
      ],
      "execution_count": null,
      "outputs": [
        {
          "output_type": "stream",
          "text": [
            "/content/drive/My Drive\n"
          ],
          "name": "stdout"
        }
      ]
    },
    {
      "cell_type": "code",
      "metadata": {
        "id": "bh-zEMaWEc8P",
        "outputId": "ca5cfecd-7ffc-4058-8880-5ad5a4355bfe",
        "colab": {
          "base_uri": "https://localhost:8080/",
          "height": 34
        }
      },
      "source": [
        "cd /content/drive/My Drive/Florance/chatbot"
      ],
      "execution_count": null,
      "outputs": [
        {
          "output_type": "stream",
          "text": [
            "/content/drive/My Drive/Florance/chatbot\n"
          ],
          "name": "stdout"
        }
      ]
    },
    {
      "cell_type": "code",
      "metadata": {
        "id": "KWexBlEg7JN_"
      },
      "source": [
        "import os\n",
        "os.environ['PYTHONPATH'] = \"/env/python:/content/drive/My Drive/Florance\""
      ],
      "execution_count": null,
      "outputs": []
    },
    {
      "cell_type": "code",
      "metadata": {
        "id": "sdBKyQEY7Lg4",
        "outputId": "b3a1fe1a-faf7-4a15-fe1f-cdbe8dde2b55",
        "colab": {
          "base_uri": "https://localhost:8080/",
          "height": 34
        }
      },
      "source": [
        "! echo $PYTHONPATH"
      ],
      "execution_count": null,
      "outputs": [
        {
          "output_type": "stream",
          "text": [
            "/env/python:/content/drive/My Drive/Florance\n"
          ],
          "name": "stdout"
        }
      ]
    },
    {
      "cell_type": "code",
      "metadata": {
        "id": "X15cSfX3FnCh"
      },
      "source": [
        "!pip install tensorflow==1.14.0"
      ],
      "execution_count": null,
      "outputs": []
    },
    {
      "cell_type": "code",
      "metadata": {
        "id": "izlx7He05Y6d",
        "outputId": "e65fa9a6-61d9-4a5b-9219-0809ed114c68",
        "colab": {
          "base_uri": "https://localhost:8080/",
          "height": 51
        }
      },
      "source": [
        "%tensorflow_version 1.x\n",
        "import tensorflow as tf\n",
        "print(tf.__version__)"
      ],
      "execution_count": null,
      "outputs": [
        {
          "output_type": "stream",
          "text": [
            "TensorFlow 1.x selected.\n",
            "1.15.2\n"
          ],
          "name": "stdout"
        }
      ]
    },
    {
      "cell_type": "code",
      "metadata": {
        "id": "oM1AMhv9ybSn",
        "outputId": "4d529173-c6aa-4712-fcf6-cd7710c87204",
        "colab": {
          "base_uri": "https://localhost:8080/",
          "height": 34
        }
      },
      "source": [
        "import tensorflow as tf\n",
        "tf.test.gpu_device_name()"
      ],
      "execution_count": null,
      "outputs": [
        {
          "output_type": "execute_result",
          "data": {
            "text/plain": [
              "'/device:GPU:0'"
            ]
          },
          "metadata": {
            "tags": []
          },
          "execution_count": 26
        }
      ]
    },
    {
      "cell_type": "code",
      "metadata": {
        "id": "YVrIVP-CypaZ",
        "outputId": "d0a3873b-ce31-40fc-9a1a-dd74e5b43aac",
        "colab": {
          "base_uri": "https://localhost:8080/",
          "height": 476
        }
      },
      "source": [
        "from tensorflow.python.client import device_lib\n",
        "device_lib.list_local_devices()"
      ],
      "execution_count": null,
      "outputs": [
        {
          "output_type": "execute_result",
          "data": {
            "text/plain": [
              "[name: \"/device:CPU:0\"\n",
              " device_type: \"CPU\"\n",
              " memory_limit: 268435456\n",
              " locality {\n",
              " }\n",
              " incarnation: 2233983249315978312, name: \"/device:XLA_CPU:0\"\n",
              " device_type: \"XLA_CPU\"\n",
              " memory_limit: 17179869184\n",
              " locality {\n",
              " }\n",
              " incarnation: 12992701196556531267\n",
              " physical_device_desc: \"device: XLA_CPU device\", name: \"/device:XLA_GPU:0\"\n",
              " device_type: \"XLA_GPU\"\n",
              " memory_limit: 17179869184\n",
              " locality {\n",
              " }\n",
              " incarnation: 2350198358463891539\n",
              " physical_device_desc: \"device: XLA_GPU device\", name: \"/device:GPU:0\"\n",
              " device_type: \"GPU\"\n",
              " memory_limit: 15956161332\n",
              " locality {\n",
              "   bus_id: 1\n",
              "   links {\n",
              "   }\n",
              " }\n",
              " incarnation: 836630605630381621\n",
              " physical_device_desc: \"device: 0, name: Tesla P100-PCIE-16GB, pci bus id: 0000:00:04.0, compute capability: 6.0\"]"
            ]
          },
          "metadata": {
            "tags": []
          },
          "execution_count": 16
        }
      ]
    },
    {
      "cell_type": "code",
      "metadata": {
        "id": "G4wWaJhxFdbw",
        "outputId": "bc8d0702-9d84-47df-e433-a01496fd8066",
        "colab": {
          "base_uri": "https://localhost:8080/",
          "height": 34
        }
      },
      "source": [
        "cd /content/drive/My Drive/Florance/Data/Corpus"
      ],
      "execution_count": null,
      "outputs": [
        {
          "output_type": "stream",
          "text": [
            "/content/drive/My Drive/Florance/Data/Corpus\n"
          ],
          "name": "stdout"
        }
      ]
    },
    {
      "cell_type": "code",
      "metadata": {
        "id": "4Xlit3dZIjaq"
      },
      "source": [
        "!python preprocesser.py"
      ],
      "execution_count": null,
      "outputs": []
    },
    {
      "cell_type": "code",
      "metadata": {
        "id": "hLWyhaHBF790",
        "outputId": "ed64be4b-dfa5-40b0-a33d-b753240609b7",
        "colab": {
          "base_uri": "https://localhost:8080/",
          "height": 85
        }
      },
      "source": [
        "!python vocabgenerator.py"
      ],
      "execution_count": null,
      "outputs": [
        {
          "output_type": "stream",
          "text": [
            "Vocab size after all base data files scanned: 3329\n",
            "Vocab size after cornell data file scanned: 18936\n",
            "200,000 lines of reddit data file scanned.\n",
            "The final vocab file generated. Vocab size: 50813\n"
          ],
          "name": "stdout"
        }
      ]
    },
    {
      "cell_type": "code",
      "metadata": {
        "id": "OzI1hg9vGpkO"
      },
      "source": [
        "!python bottrainer.py"
      ],
      "execution_count": null,
      "outputs": []
    },
    {
      "cell_type": "code",
      "metadata": {
        "id": "59tUrzIXFXFH",
        "outputId": "296e161e-726f-4f19-bd2c-34a7d22ff263",
        "colab": {
          "base_uri": "https://localhost:8080/",
          "height": 1000
        }
      },
      "source": [
        "!python botui.py"
      ],
      "execution_count": null,
      "outputs": [
        {
          "output_type": "stream",
          "text": [
            "# Prepare dataset placeholder and hyper parameters ...\n",
            "WARNING:tensorflow:From /content/drive/My Drive/ChatLearner/chatbot/hparams.py:33: The name tf.gfile.Exists is deprecated. Please use tf.io.gfile.exists instead.\n",
            "\n",
            "# Loading hparams from /content/drive/My Drive/ChatLearner/Data/Corpus/hparams.json ...\n",
            "WARNING:tensorflow:From /content/drive/My Drive/ChatLearner/chatbot/hparams.py:35: The name tf.gfile.GFile is deprecated. Please use tf.io.gfile.GFile instead.\n",
            "\n",
            "WARNING:tensorflow:\n",
            "The TensorFlow contrib module will not be included in TensorFlow 2.0.\n",
            "For more information, please see:\n",
            "  * https://github.com/tensorflow/community/blob/master/rfcs/20180907-contrib-sunset.md\n",
            "  * https://github.com/tensorflow/addons\n",
            "  * https://github.com/tensorflow/io (for I/O related ops)\n",
            "If you depend on functionality not listed there, please file an issue.\n",
            "\n",
            "WARNING:tensorflow:From /content/drive/My Drive/ChatLearner/chatbot/botpredictor.py:52: The name tf.placeholder is deprecated. Please use tf.compat.v1.placeholder instead.\n",
            "\n",
            "WARNING:tensorflow:From /content/drive/My Drive/ChatLearner/chatbot/tokenizeddata.py:172: DatasetV1.make_initializable_iterator (from tensorflow.python.data.ops.dataset_ops) is deprecated and will be removed in a future version.\n",
            "Instructions for updating:\n",
            "Use `for ... in dataset:` to iterate over a dataset. If using `tf.estimator`, return the `Dataset` object directly from your input function. As a last resort, you can use `tf.compat.v1.data.make_initializable_iterator(dataset)`.\n",
            "# Creating inference model ...\n",
            "WARNING:tensorflow:From /content/drive/My Drive/ChatLearner/chatbot/modelcreator.py:47: The name tf.get_variable_scope is deprecated. Please use tf.compat.v1.get_variable_scope instead.\n",
            "\n",
            "WARNING:tensorflow:From /content/drive/My Drive/ChatLearner/chatbot/modelhelper.py:41: The name tf.variable_scope is deprecated. Please use tf.compat.v1.variable_scope instead.\n",
            "\n",
            "WARNING:tensorflow:From /content/drive/My Drive/ChatLearner/chatbot/modelhelper.py:42: The name tf.get_variable is deprecated. Please use tf.compat.v1.get_variable instead.\n",
            "\n",
            "# Building graph for the model ...\n",
            "WARNING:tensorflow:From /content/drive/My Drive/ChatLearner/chatbot/modelhelper.py:49: GRUCell.__init__ (from tensorflow.python.ops.rnn_cell_impl) is deprecated and will be removed in a future version.\n",
            "Instructions for updating:\n",
            "This class is equivalent as tf.keras.layers.GRUCell, and will be replaced by that in Tensorflow 2.0.\n",
            "WARNING:tensorflow:From /content/drive/My Drive/ChatLearner/chatbot/modelhelper.py:71: MultiRNNCell.__init__ (from tensorflow.python.ops.rnn_cell_impl) is deprecated and will be removed in a future version.\n",
            "Instructions for updating:\n",
            "This class is equivalent as tf.keras.layers.StackedRNNCells, and will be replaced by that in Tensorflow 2.0.\n",
            "WARNING:tensorflow:From /content/drive/My Drive/ChatLearner/chatbot/modelcreator.py:164: dynamic_rnn (from tensorflow.python.ops.rnn) is deprecated and will be removed in a future version.\n",
            "Instructions for updating:\n",
            "Please use `keras.layers.RNN(cell)`, which is equivalent to this API\n",
            "WARNING:tensorflow:From /tensorflow-1.15.2/python3.6/tensorflow_core/python/ops/rnn_cell_impl.py:559: Layer.add_variable (from tensorflow.python.keras.engine.base_layer) is deprecated and will be removed in a future version.\n",
            "Instructions for updating:\n",
            "Please use `layer.add_weight` method instead.\n",
            "WARNING:tensorflow:From /tensorflow-1.15.2/python3.6/tensorflow_core/python/ops/rnn_cell_impl.py:565: calling Constant.__init__ (from tensorflow.python.ops.init_ops) with dtype is deprecated and will be removed in a future version.\n",
            "Instructions for updating:\n",
            "Call initializer instance with the dtype argument instead of passing it to the constructor\n",
            "WARNING:tensorflow:From /tensorflow-1.15.2/python3.6/tensorflow_core/python/ops/rnn_cell_impl.py:575: calling Zeros.__init__ (from tensorflow.python.ops.init_ops) with dtype is deprecated and will be removed in a future version.\n",
            "Instructions for updating:\n",
            "Call initializer instance with the dtype argument instead of passing it to the constructor\n",
            "WARNING:tensorflow:From /tensorflow-1.15.2/python3.6/tensorflow_core/python/ops/rnn.py:244: where (from tensorflow.python.ops.array_ops) is deprecated and will be removed in a future version.\n",
            "Instructions for updating:\n",
            "Use tf.where in 2.0, which has the same broadcast rule as np.where\n",
            "WARNING:tensorflow:From /tensorflow-1.15.2/python3.6/tensorflow_core/contrib/seq2seq/python/ops/beam_search_decoder.py:971: to_int64 (from tensorflow.python.ops.math_ops) is deprecated and will be removed in a future version.\n",
            "Instructions for updating:\n",
            "Use `tf.cast` instead.\n",
            "WARNING:tensorflow:From /content/drive/My Drive/ChatLearner/chatbot/modelcreator.py:79: The name tf.trainable_variables is deprecated. Please use tf.compat.v1.trainable_variables instead.\n",
            "\n",
            "WARNING:tensorflow:From /content/drive/My Drive/ChatLearner/chatbot/modelcreator.py:104: The name tf.train.Saver is deprecated. Please use tf.compat.v1.train.Saver instead.\n",
            "\n",
            "WARNING:tensorflow:From /content/drive/My Drive/ChatLearner/chatbot/modelcreator.py:104: The name tf.global_variables is deprecated. Please use tf.compat.v1.global_variables instead.\n",
            "\n",
            "# Restoring model weights ...\n",
            "WARNING:tensorflow:From /content/drive/My Drive/ChatLearner/chatbot/botpredictor.py:64: The name tf.tables_initializer is deprecated. Please use tf.compat.v1.tables_initializer instead.\n",
            "\n",
            "Welcome to Chat with ChatLearner!\n",
            "Type exit and press enter to end the conversation.\n",
            "> Hello!\n",
            "Hello!\n",
            "> What's your name ?\n",
            "My name is florance. And, how should I call you, please?\n",
            "> How old are you ?\n",
            "I am 23 years old.\n",
            "> Where are you from?\n",
            "I am from England.\n",
            "> Where are you living ?\n",
            "I am nowhere near this.\n",
            "> Tell me a joke\n",
            "Here is a funny one: What's red and smells like blue paint?\n",
            " Red paint.\n",
            "> What's one plus two ?\n",
            "Key's resolution is my first time to get through\n",
            "> What are you talking about ?\n",
            "Sorry, I am not happy with me.\n",
            "> Is it okay?\n",
            "I'm learning.\n",
            "> How are you ?\n",
            "I am fine, thank you. How are you?\n",
            "> Not good\n",
            ":)\n",
            "> Are you a girl?\n",
            "No, I am a robot.\n",
            "> Who is your father?\n",
            "That's a secret.\n",
            "> Are you in Singapore ?\n",
            "Yes, I am in singapore right now.\n",
            "> What do you like in Singapore?\n",
            "I am very simple, but I like to know the truth.\n",
            "> Do you like Singapore?\n",
            "Yes, I am in singapore\n",
            "> Where are you studying?\n",
            "Arm and me?\n",
            "> Who are you?\n",
            "What? I am the gentle florance.\n",
            "> What time is it?\n",
            "It is 12:38 PM.\n",
            "> What day is it today?\n",
            "Today is April 02, 2020.\n",
            "> Tell me a story.\n",
            "A fox, observing a fish cart coming, lay down and pretended to be dead.\n",
            " The cart man, tempted by the idea of making some money by selling the fox's fur, picked up the animal and flung it into the back of the cart.\n",
            " During the journey, the fox ate all the fish and jumped out of the cart.\n",
            " A wolf saw him jumping out and asked him what he had been doing in it. The fox told him all what had happend. Then, the wolf ran ahead of the cart and lay down in its path, pretending to be dead.\n",
            " The cart man was delighted to find another animal to sell, but he found the animal too heavy to lift. So he pushed it into a sack, tied the sack to his cart and dragged it away.\n",
            "> Thank you!\n",
            "Outlets have good taste in singapore.\n",
            "> Bye!\n",
            "Bye bye.\n",
            "> "
          ],
          "name": "stdout"
        }
      ]
    },
    {
      "cell_type": "code",
      "metadata": {
        "id": "RWzyqb8tyNTd",
        "outputId": "cbb49148-4d96-440e-e6e2-bb7b8b14563d",
        "colab": {
          "base_uri": "https://localhost:8080/",
          "height": 68
        }
      },
      "source": [
        "import nltk\n",
        "nltk.download('punkt')"
      ],
      "execution_count": null,
      "outputs": [
        {
          "output_type": "stream",
          "text": [
            "[nltk_data] Downloading package punkt to /root/nltk_data...\n",
            "[nltk_data]   Package punkt is already up-to-date!\n"
          ],
          "name": "stdout"
        },
        {
          "output_type": "execute_result",
          "data": {
            "text/plain": [
              "True"
            ]
          },
          "metadata": {
            "tags": []
          },
          "execution_count": 5
        }
      ]
    },
    {
      "cell_type": "code",
      "metadata": {
        "id": "c1DDmOHCsmmJ",
        "outputId": "b65805ac-c28b-4e48-955b-9a7fa2d69635",
        "colab": {
          "base_uri": "https://localhost:8080/",
          "height": 105
        }
      },
      "source": [
        "pip install --upgrade --force-reinstall tensorflow-gpu"
      ],
      "execution_count": null,
      "outputs": [
        {
          "output_type": "stream",
          "text": [
            "Collecting tensorflow-gpu\n",
            "\u001b[?25l  Downloading https://files.pythonhosted.org/packages/0a/93/c7bca39b23aae45cd2e85ad3871c81eccc63b9c5276e926511e2e5b0879d/tensorflow_gpu-2.1.0-cp36-cp36m-manylinux2010_x86_64.whl (421.8MB)\n",
            "\u001b[K     |███████                         | 92.1MB 44.6MB/s eta 0:00:08\n",
            "\u001b[31mERROR: Operation cancelled by user\u001b[0m\n",
            "\u001b[?25h"
          ],
          "name": "stdout"
        }
      ]
    },
    {
      "cell_type": "code",
      "metadata": {
        "id": "CcMR3xKsP38D"
      },
      "source": [
        ""
      ],
      "execution_count": null,
      "outputs": []
    }
  ]
}